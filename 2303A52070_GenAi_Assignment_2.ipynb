{
  "nbformat": 4,
  "nbformat_minor": 0,
  "metadata": {
    "colab": {
      "provenance": [],
      "authorship_tag": "ABX9TyNj2sNT2156xQa7c1Mm1OVd",
      "include_colab_link": true
    },
    "kernelspec": {
      "name": "python3",
      "display_name": "Python 3"
    },
    "language_info": {
      "name": "python"
    }
  },
  "cells": [
    {
      "cell_type": "markdown",
      "metadata": {
        "id": "view-in-github",
        "colab_type": "text"
      },
      "source": [
        "<a href=\"https://colab.research.google.com/github/Trinay-prasad/Genarative-AI_2303A52070/blob/main/2303A52070_GenAi_Assignment_2.ipynb\" target=\"_parent\"><img src=\"https://colab.research.google.com/assets/colab-badge.svg\" alt=\"Open In Colab\"/></a>"
      ]
    },
    {
      "cell_type": "code",
      "source": [
        "from scipy.optimize import linprog\n",
        "\n",
        "profit = [-6, -5]\n",
        "constraints = [\n",
        "    [1, 1],\n",
        "    [3, 2]\n",
        "]\n",
        "bounds = [5, 12]\n",
        "variable_bounds = [(0, None), (0, None)]\n",
        "\n",
        "result = linprog(c=profit, A_ub=constraints, b_ub=bounds, bounds=variable_bounds, method=\"highs\")\n",
        "\n",
        "if result.success:\n",
        "    print(\"Optimal Production:\")\n",
        "    print(f\"Chocolate A: {result.x[0]:.2f} units\")\n",
        "    print(f\"Chocolate B: {result.x[1]:.2f} units\")\n",
        "    print(f\"Maximum Profit: ₹{-result.fun:.2f}\")\n",
        "else:\n",
        "    print(\"No optimal solution found.\")"
      ],
      "metadata": {
        "colab": {
          "base_uri": "https://localhost:8080/"
        },
        "id": "yvnyVAQ3cGst",
        "outputId": "88db05d2-c233-4682-c2de-d7d91c13157e"
      },
      "execution_count": 2,
      "outputs": [
        {
          "output_type": "stream",
          "name": "stdout",
          "text": [
            "Optimal Production:\n",
            "Chocolate A: 2.00 units\n",
            "Chocolate B: 3.00 units\n",
            "Maximum Profit: ₹27.00\n"
          ]
        }
      ]
    },
    {
      "cell_type": "code",
      "execution_count": 3,
      "metadata": {
        "colab": {
          "base_uri": "https://localhost:8080/"
        },
        "id": "R4U1QlFQKMkX",
        "outputId": "64f368ac-02ce-44db-b1ae-b22ea3c94fc7"
      },
      "outputs": [
        {
          "output_type": "stream",
          "name": "stdout",
          "text": [
            "Optimal Area Allocation:\n",
            "Wheat (x1): 97.89 hectares\n",
            "Barley (x2): 7.37 hectares\n",
            "Maximum Profit: ₹5778.95\n"
          ]
        }
      ],
      "source": [
        "from scipy.optimize import linprog\n",
        "\n",
        "profit = [-50, -120]\n",
        "constraints = [\n",
        "    [1, 1],\n",
        "    [7000, 2000],\n",
        "    [10, 30]\n",
        "]\n",
        "bounds = [110, 700000, 1200]\n",
        "variable_bounds = [(0, None), (0, None)]\n",
        "\n",
        "result = linprog(\n",
        "    c=profit,\n",
        "    A_ub=constraints,\n",
        "    b_ub=bounds,\n",
        "    bounds=variable_bounds,\n",
        "    method=\"highs\"\n",
        ")\n",
        "\n",
        "print(\"Optimal Area Allocation:\")\n",
        "print(f\"Wheat (x1): {result.x[0]:.2f} hectares\")\n",
        "print(f\"Barley (x2): {result.x[1]:.2f} hectares\")\n",
        "print(f\"Maximum Profit: ₹{(-result.fun):.2f}\")"
      ]
    }
  ]
}